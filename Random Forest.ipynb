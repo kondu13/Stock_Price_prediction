{
 "cells": [
  {
   "cell_type": "markdown",
   "id": "b2aa800c",
   "metadata": {},
   "source": [
    "Importing libraries"
   ]
  },
  {
   "cell_type": "code",
   "execution_count": 90,
   "id": "df3fc050",
   "metadata": {},
   "outputs": [],
   "source": [
    "import numpy as np\n",
    "import pandas as pd\n",
    "import matplotlib.pyplot as plt\n",
    "from sklearn.ensemble import RandomForestRegressor\n",
    "from sklearn.model_selection import train_test_split\n",
    "import yfinance as yf\n",
    "from sklearn.metrics import mean_squared_error, mean_absolute_error, r2_score"
   ]
  },
  {
   "cell_type": "markdown",
   "id": "1f8a1338",
   "metadata": {},
   "source": [
    "Loading Our Dataset"
   ]
  },
  {
   "cell_type": "code",
   "execution_count": 91,
   "id": "868459f5",
   "metadata": {
    "scrolled": true
   },
   "outputs": [
    {
     "name": "stdout",
     "output_type": "stream",
     "text": [
      "[*********************100%***********************]  1 of 1 completed\n"
     ]
    }
   ],
   "source": [
    "start = '2010-01-01'\n",
    "end = '2023-10-22'\n",
    "\n",
    "df = yf.download('ADANIPOWER.BO', start = start, end=end)"
   ]
  },
  {
   "cell_type": "markdown",
   "id": "8a21022d",
   "metadata": {},
   "source": [
    "Feature Extraction"
   ]
  },
  {
   "cell_type": "code",
   "execution_count": 92,
   "id": "74dd2654",
   "metadata": {
    "scrolled": true
   },
   "outputs": [
    {
     "data": {
      "text/html": [
       "<div>\n",
       "<style scoped>\n",
       "    .dataframe tbody tr th:only-of-type {\n",
       "        vertical-align: middle;\n",
       "    }\n",
       "\n",
       "    .dataframe tbody tr th {\n",
       "        vertical-align: top;\n",
       "    }\n",
       "\n",
       "    .dataframe thead th {\n",
       "        text-align: right;\n",
       "    }\n",
       "</style>\n",
       "<table border=\"1\" class=\"dataframe\">\n",
       "  <thead>\n",
       "    <tr style=\"text-align: right;\">\n",
       "      <th></th>\n",
       "      <th>Open</th>\n",
       "      <th>High</th>\n",
       "      <th>Low</th>\n",
       "      <th>Close</th>\n",
       "      <th>Volume</th>\n",
       "    </tr>\n",
       "    <tr>\n",
       "      <th>Date</th>\n",
       "      <th></th>\n",
       "      <th></th>\n",
       "      <th></th>\n",
       "      <th></th>\n",
       "      <th></th>\n",
       "    </tr>\n",
       "  </thead>\n",
       "  <tbody>\n",
       "    <tr>\n",
       "      <th>2010-01-04</th>\n",
       "      <td>99.750000</td>\n",
       "      <td>100.000000</td>\n",
       "      <td>99.000000</td>\n",
       "      <td>99.099998</td>\n",
       "      <td>280862</td>\n",
       "    </tr>\n",
       "    <tr>\n",
       "      <th>2010-01-05</th>\n",
       "      <td>99.300003</td>\n",
       "      <td>112.349998</td>\n",
       "      <td>99.300003</td>\n",
       "      <td>105.099998</td>\n",
       "      <td>6257584</td>\n",
       "    </tr>\n",
       "    <tr>\n",
       "      <th>2010-01-06</th>\n",
       "      <td>105.900002</td>\n",
       "      <td>110.900002</td>\n",
       "      <td>105.900002</td>\n",
       "      <td>107.500000</td>\n",
       "      <td>3335304</td>\n",
       "    </tr>\n",
       "    <tr>\n",
       "      <th>2010-01-07</th>\n",
       "      <td>108.000000</td>\n",
       "      <td>108.250000</td>\n",
       "      <td>104.750000</td>\n",
       "      <td>105.050003</td>\n",
       "      <td>766364</td>\n",
       "    </tr>\n",
       "    <tr>\n",
       "      <th>2010-01-08</th>\n",
       "      <td>105.000000</td>\n",
       "      <td>106.849998</td>\n",
       "      <td>103.300003</td>\n",
       "      <td>103.699997</td>\n",
       "      <td>529225</td>\n",
       "    </tr>\n",
       "    <tr>\n",
       "      <th>...</th>\n",
       "      <td>...</td>\n",
       "      <td>...</td>\n",
       "      <td>...</td>\n",
       "      <td>...</td>\n",
       "      <td>...</td>\n",
       "    </tr>\n",
       "    <tr>\n",
       "      <th>2023-10-16</th>\n",
       "      <td>340.049988</td>\n",
       "      <td>343.700012</td>\n",
       "      <td>327.149994</td>\n",
       "      <td>329.950012</td>\n",
       "      <td>569371</td>\n",
       "    </tr>\n",
       "    <tr>\n",
       "      <th>2023-10-17</th>\n",
       "      <td>331.549988</td>\n",
       "      <td>344.100006</td>\n",
       "      <td>331.000000</td>\n",
       "      <td>335.600006</td>\n",
       "      <td>874110</td>\n",
       "    </tr>\n",
       "    <tr>\n",
       "      <th>2023-10-18</th>\n",
       "      <td>336.549988</td>\n",
       "      <td>339.450012</td>\n",
       "      <td>332.000000</td>\n",
       "      <td>333.899994</td>\n",
       "      <td>526507</td>\n",
       "    </tr>\n",
       "    <tr>\n",
       "      <th>2023-10-19</th>\n",
       "      <td>333.049988</td>\n",
       "      <td>346.950012</td>\n",
       "      <td>331.250000</td>\n",
       "      <td>344.399994</td>\n",
       "      <td>730293</td>\n",
       "    </tr>\n",
       "    <tr>\n",
       "      <th>2023-10-20</th>\n",
       "      <td>343.350006</td>\n",
       "      <td>346.299988</td>\n",
       "      <td>336.000000</td>\n",
       "      <td>338.100006</td>\n",
       "      <td>266402</td>\n",
       "    </tr>\n",
       "  </tbody>\n",
       "</table>\n",
       "<p>3386 rows × 5 columns</p>\n",
       "</div>"
      ],
      "text/plain": [
       "                  Open        High         Low       Close   Volume\n",
       "Date                                                               \n",
       "2010-01-04   99.750000  100.000000   99.000000   99.099998   280862\n",
       "2010-01-05   99.300003  112.349998   99.300003  105.099998  6257584\n",
       "2010-01-06  105.900002  110.900002  105.900002  107.500000  3335304\n",
       "2010-01-07  108.000000  108.250000  104.750000  105.050003   766364\n",
       "2010-01-08  105.000000  106.849998  103.300003  103.699997   529225\n",
       "...                ...         ...         ...         ...      ...\n",
       "2023-10-16  340.049988  343.700012  327.149994  329.950012   569371\n",
       "2023-10-17  331.549988  344.100006  331.000000  335.600006   874110\n",
       "2023-10-18  336.549988  339.450012  332.000000  333.899994   526507\n",
       "2023-10-19  333.049988  346.950012  331.250000  344.399994   730293\n",
       "2023-10-20  343.350006  346.299988  336.000000  338.100006   266402\n",
       "\n",
       "[3386 rows x 5 columns]"
      ]
     },
     "execution_count": 92,
     "metadata": {},
     "output_type": "execute_result"
    }
   ],
   "source": [
    "df = df.drop(['Adj Close'], axis = 'columns')\n",
    "df"
   ]
  },
  {
   "cell_type": "markdown",
   "id": "b07f3c6b",
   "metadata": {},
   "source": [
    "Splitting Data and Training Model\n"
   ]
  },
  {
   "cell_type": "code",
   "execution_count": 93,
   "id": "b6507d52",
   "metadata": {},
   "outputs": [],
   "source": [
    "x = df[['Open', 'High', 'Low', 'Volume', 'Close']].values\n",
    "new_df = df.drop(df.index[0])\n",
    "y = new_df[['Open', 'High', 'Low', 'Volume', 'Close']].values\n",
    "X = x[:-1]"
   ]
  },
  {
   "cell_type": "code",
   "execution_count": 94,
   "id": "31358539",
   "metadata": {},
   "outputs": [],
   "source": [
    "X_train, X_test, y_train, y_test = train_test_split(X, y, test_size=0.01, random_state=42)"
   ]
  },
  {
   "cell_type": "code",
   "execution_count": 95,
   "id": "9f23c8d8",
   "metadata": {},
   "outputs": [],
   "source": [
    "model = RandomForestRegressor(n_estimators=100, random_state=42)\n"
   ]
  },
  {
   "cell_type": "code",
   "execution_count": 96,
   "id": "cbbe82d0",
   "metadata": {},
   "outputs": [
    {
     "name": "stdout",
     "output_type": "stream",
     "text": [
      "Predicted values for the next 7 days:\n",
      "[array([[   330.0344986 ,    335.86849823,    324.42449982,\n",
      "        272872.44      ,    330.82599655]]), array([[   315.46450596,    318.9289991 ,    312.30999355,\n",
      "        302283.14      ,    314.35049919]]), array([[3.03305438e+02, 3.09231367e+02, 2.99853305e+02, 3.87722874e+05,\n",
      "        3.03838009e+02]]), array([[2.96680275e+02, 3.00535067e+02, 2.90676663e+02, 5.28607954e+05,\n",
      "        2.94076404e+02]]), array([[2.95732001e+02, 3.01297003e+02, 2.91283498e+02, 6.60798540e+05,\n",
      "        2.97164001e+02]]), array([[2.85037234e+02, 2.90208293e+02, 2.79981343e+02, 7.31110058e+05,\n",
      "        2.87144481e+02]]), array([[2.82654378e+02, 2.85757442e+02, 2.79898053e+02, 5.98448374e+05,\n",
      "        2.82621452e+02]])]\n"
     ]
    }
   ],
   "source": [
    "predictions = []\n",
    "\n",
    "for _ in range(7):\n",
    "    # Train the model on the current dataset\n",
    "    X = x[:-1]\n",
    "    y = new_df[['Open', 'High', 'Low', 'Volume', 'Close']].values\n",
    "\n",
    "    model.fit(X, y)\n",
    "\n",
    "    # Predict the next day's values\n",
    "    latest_data = x[-1].reshape(1, -1)\n",
    "    prediction = model.predict(latest_data)\n",
    "    \n",
    "    # Append the prediction to the 'x' array\n",
    "    x = np.vstack([x, prediction])\n",
    "\n",
    "    # Append the prediction to the 'new_df'\n",
    "    new_data = pd.DataFrame(data=[prediction[0]], columns=['Open', 'High', 'Low', 'Volume', 'Close'])\n",
    "    new_df = pd.concat([new_df, new_data], ignore_index=True)\n",
    "\n",
    "    predictions.append(prediction)\n",
    "\n",
    "# 'predictions' now contains the predicted values for the next 7 days\n",
    "print(\"Predicted values for the next 7 days:\")\n",
    "print(predictions)\n",
    "\n",
    "# ..."
   ]
  },
  {
   "cell_type": "markdown",
   "id": "0cb335ca",
   "metadata": {},
   "source": [
    "Predicting Close values"
   ]
  },
  {
   "cell_type": "code",
   "execution_count": 109,
   "id": "9308fc98",
   "metadata": {},
   "outputs": [
    {
     "name": "stdout",
     "output_type": "stream",
     "text": [
      "[array([[2.82654378e+02, 2.85757442e+02, 2.79898053e+02, 5.98448374e+05,\n",
      "        2.82621452e+02]])]\n"
     ]
    }
   ],
   "source": [
    "print(predictions[-1:])"
   ]
  },
  {
   "cell_type": "code",
   "execution_count": null,
   "id": "71b74d6d",
   "metadata": {},
   "outputs": [],
   "source": []
  }
 ],
 "metadata": {
  "kernelspec": {
   "display_name": "Python 3 (ipykernel)",
   "language": "python",
   "name": "python3"
  },
  "language_info": {
   "codemirror_mode": {
    "name": "ipython",
    "version": 3
   },
   "file_extension": ".py",
   "mimetype": "text/x-python",
   "name": "python",
   "nbconvert_exporter": "python",
   "pygments_lexer": "ipython3",
   "version": "3.11.3"
  }
 },
 "nbformat": 4,
 "nbformat_minor": 5
}
